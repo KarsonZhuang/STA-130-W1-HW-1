{
 "cells": [
  {
   "cell_type": "markdown",
   "id": "04baa7d4",
   "metadata": {},
   "source": [
    "Q1: Testable ideas: Must be measurable using data.\n",
    "    Good null hypothesis: Clear, specific, testable, and falsifiable.\n",
    "    Null vs. alternative hypothesis:\n",
    "      Null: No effect or no difference.\n",
    "      Alternative: Suggests an effect or difference."
   ]
  },
  {
   "cell_type": "markdown",
   "id": "aaa165e4",
   "metadata": {},
   "source": [
    "Q2:Population parameter: What we’re trying to learn about the entire group.\n",
    "Sample statistic: What we actually measure from a smaller group."
   ]
  },
  {
   "cell_type": "markdown",
   "id": "2c0ece4c",
   "metadata": {},
   "source": [
    "Q3:We assume the null hypothesis is true when calculating a p-value to see how likely our observed data would occur by chance. A small p-value suggests the data is unusual, potentially rejecting the null."
   ]
  },
  {
   "cell_type": "markdown",
   "id": "f4ee97bc",
   "metadata": {},
   "source": [
    "Q4:P-value: A number that shows how likely our data is, assuming the null hypothesis is true.\n",
    "Null hypothesis (H₀): The idea that there's no effect or no difference.\n",
    "If the p-value is very small, it suggests the null hypothesis doesn’t explain the data well."
   ]
  },
  {
   "cell_type": "markdown",
   "id": "42f97fc2",
   "metadata": {},
   "source": [
    "Q5:Steps for Simulating the p-value:\n",
    "Null hypothesis assumption: Assume each couple has a 50% chance of tilting to the right.\n",
    "Simulate coin flips: Simulate flipping a fair coin 124 times (one for each couple) and count how many times the coin lands \"heads\" (representing tilting right). Repeat this simulation many times (e.g., 10,000 times).\n",
    "Calculate the observed statistic: For each simulation, calculate how many times 80 or more heads (right tilts) occur.\n",
    "Compute the p-value: The p-value is the proportion of simulations where the number of heads (right tilts) is 80 or greater."
   ]
  },
  {
   "cell_type": "code",
   "execution_count": 6,
   "id": "e8c7c071",
   "metadata": {},
   "outputs": [
    {
     "data": {
      "text/plain": [
       "0.0006"
      ]
     },
     "execution_count": 6,
     "metadata": {},
     "output_type": "execute_result"
    }
   ],
   "source": [
    "import numpy as np\n",
    "\n",
    "# Parameters\n",
    "n_couples = 124  # number of couples\n",
    "n_right_tilts_observed = 80  # number of couples who tilted right\n",
    "p_right = 0.5  # assumed probability under null hypothesis\n",
    "n_simulations = 10000  # number of simulations\n",
    "\n",
    "# Simulate the number of couples tilting right under the null hypothesis\n",
    "simulated_right_tilts = np.random.binomial(n_couples, p_right, n_simulations)\n",
    "\n",
    "# Calculate the p-value: proportion of simulations where number of right tilts is 80 or more\n",
    "p_value = np.mean(simulated_right_tilts >= n_right_tilts_observed)\n",
    "p_value\n"
   ]
  },
  {
   "cell_type": "markdown",
   "id": "fe50c260",
   "metadata": {},
   "source": [
    "Q6:A smaller p-value cannot definitively prove that the null hypothesis is false. It just suggests that the data we observed is unlikely under the null hypothesis. Similarly, a p-value cannot definitively prove that Fido is innocent or guilty; it only gives a sense of how likely the evidence is assuming innocence.\n",
    "\n",
    "There is no specific p-value that definitively proves one side or the other. In hypothesis testing, we only gather evidence to support or reject the null hypothesis, but we never have absolute proof."
   ]
  },
  {
   "cell_type": "markdown",
   "id": "a86514ee",
   "metadata": {},
   "source": [
    "Q8:\n",
    "1.Description of Population and Parameter of Interest\n",
    "Population: The population in question is all STA130 students participating in the experiment. In Fisher's original experiment, the population was effectively \"people who can distinguish the order of tea pouring.\"\n",
    "\n",
    "Parameter of Interest: The parameter is the proportion of STA130 students who can correctly identify whether the tea or milk was poured first. This corresponds to the population proportion \n",
    "𝑝 that we are trying to infer based on the sample."
   ]
  },
  {
   "cell_type": "code",
   "execution_count": 7,
   "id": "5dc63901",
   "metadata": {},
   "outputs": [
    {
     "name": "stdout",
     "output_type": "stream",
     "text": [
      "P-value: 0.056664426345121144\n"
     ]
    },
    {
     "name": "stderr",
     "output_type": "stream",
     "text": [
      "/tmp/ipykernel_53/3403431247.py:12: DeprecationWarning: 'binom_test' is deprecated in favour of 'binomtest' from version 1.7.0 and will be removed in Scipy 1.12.0.\n",
      "  p_value = binom_test(x, n, p=0.5, alternative='two-sided')\n"
     ]
    }
   ],
   "source": [
    "import numpy as np\n",
    "from scipy.stats import binom_test\n",
    "\n",
    "# Set seed for reproducibility\n",
    "np.random.seed(130)\n",
    "\n",
    "# Observed data\n",
    "n = 80  # total number of students\n",
    "x = 49  # number of correct responses\n",
    "\n",
    "# Perform a two-sided binomial test\n",
    "p_value = binom_test(x, n, p=0.5, alternative='two-sided')\n",
    "\n",
    "print(f\"P-value: {p_value}\")\n"
   ]
  },
  {
   "cell_type": "markdown",
   "id": "3ec2d37f",
   "metadata": {},
   "source": [
    "3. Formal Null Hypotheses (H₀)\n",
    "Formal Version:\n",
    "\n",
    "𝐻_0:p=0.5\n",
    "This means that STA130 students are just guessing, and the probability of correctly identifying the pouring order is 0.5 (random guessing).\n",
    "Informal Interpretation:\n",
    "\n",
    "The null hypothesis suggests that the students are just as likely to guess correctly or incorrectly, like flipping a coin. In other words, no student has a real ability to tell the difference.\n",
    "Alternative Hypothesis (H₁):\n",
    "\n",
    "𝐻_0 do not =0.5\n",
    "This means that the students are not just guessing randomly and that the probability of correctly identifying the order is different from 0.5.\n",
    "\n",
    "4. Quantitative Analysis Addressing the Validity of H₀\n",
    "\n",
    "Methodology:\n",
    "\n",
    "Perform a binomial test or simulation to analyze the likelihood of getting 49 correct responses out of 80 under the assumption of random guessing (p = 0.5).\n",
    "Test Statistic: The observed number of successes (49 out of 80).\n",
    "\n",
    "Explanation of Method:\n",
    "\n",
    "The binomial test will calculate the probability of observing at least 49 correct responses out of 80, assuming the null hypothesis is true. A small p-value would suggest that it is unlikely the students are guessing randomly, leading us to reject the null hypothesis."
   ]
  },
  {
   "cell_type": "markdown",
   "id": "5745eb04",
   "metadata": {},
   "source": [
    "ChatGPT Link:https://chatgpt.com/share/670f0215-9880-800f-ada8-13658f6999f2"
   ]
  },
  {
   "cell_type": "code",
   "execution_count": null,
   "id": "372c5617",
   "metadata": {},
   "outputs": [],
   "source": []
  }
 ],
 "metadata": {
  "kernelspec": {
   "display_name": "Python 3 (ipykernel)",
   "language": "python",
   "name": "python3"
  },
  "language_info": {
   "codemirror_mode": {
    "name": "ipython",
    "version": 3
   },
   "file_extension": ".py",
   "mimetype": "text/x-python",
   "name": "python",
   "nbconvert_exporter": "python",
   "pygments_lexer": "ipython3",
   "version": "3.11.6"
  }
 },
 "nbformat": 4,
 "nbformat_minor": 5
}
